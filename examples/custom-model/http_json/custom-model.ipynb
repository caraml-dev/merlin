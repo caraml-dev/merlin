{
 "cells": [
  {
   "cell_type": "markdown",
   "id": "88acfbf4",
   "metadata": {},
   "source": [
    "# Custom Model Sample"
   ]
  },
  {
   "cell_type": "markdown",
   "id": "1c7f43f1",
   "metadata": {},
   "source": [
    "## Requirements\n",
    "\n",
    "- Authenticated to gcloud (```gcloud auth application-default login```)"
   ]
  },
  {
   "cell_type": "markdown",
   "id": "f6218f2a",
   "metadata": {},
   "source": [
    "This notebook demonstrate how to create and deploy custom model which using IRIS classifier based on xgboost model into Merlin."
   ]
  },
  {
   "cell_type": "code",
   "execution_count": null,
   "id": "daafc16a",
   "metadata": {},
   "outputs": [],
   "source": [
    "!python3 -m pip install --upgrade -r requirements.txt > /dev/null"
   ]
  },
  {
   "cell_type": "code",
   "execution_count": null,
   "id": "dcd7ae51",
   "metadata": {},
   "outputs": [],
   "source": [
    "import merlin\n",
    "import warnings\n",
    "import os\n",
    "import xgboost as xgb\n",
    "from merlin.model import ModelType\n",
    "from sklearn.datasets import load_iris\n",
    "warnings.filterwarnings('ignore')\n",
    "print(merlin.__version__)"
   ]
  },
  {
   "cell_type": "markdown",
   "id": "38fd8feb",
   "metadata": {},
   "source": [
    "## 1. Initialize Merlin Resources\n"
   ]
  },
  {
   "cell_type": "markdown",
   "id": "46d2cc6b",
   "metadata": {},
   "source": [
    "### 1.1 Set Merlin Server"
   ]
  },
  {
   "cell_type": "code",
   "execution_count": null,
   "id": "e4e165b2",
   "metadata": {},
   "outputs": [],
   "source": [
    "# Set Merlin Server\n",
    "merlin.set_url(\"http://localhost:8080\")"
   ]
  },
  {
   "cell_type": "markdown",
   "id": "c826d621",
   "metadata": {},
   "source": [
    "### 1.2 Set Active Project\n",
    "\n",
    "`project` represent a project in real life. You may have multiple model within a project.\n",
    "\n",
    "`merlin.set_project(<project_name>)` will set the active project into the name matched by argument. You can only set it to an existing project. If you would like to create a new project, please do so from the MLP console at http://localhost:8080/projects/create."
   ]
  },
  {
   "cell_type": "code",
   "execution_count": null,
   "id": "813438d9",
   "metadata": {},
   "outputs": [],
   "source": [
    "merlin.set_project(\"sample\")"
   ]
  },
  {
   "cell_type": "markdown",
   "id": "546a926d",
   "metadata": {},
   "source": [
    "### 1.3 Set Active Model\n",
    "\n",
    "`model` represents an abstract ML model. Conceptually, `model` in Merlin is similar to a class in programming language. To instantiate a `model` you'll have to create a `model_version`.\n",
    "\n",
    "Each `model` has a type, currently model type supported by Merlin are: sklearn, xgboost, tensorflow, pytorch, and user defined model (i.e. pyfunc model).\n",
    "\n",
    "`model_version` represents a snapshot of particular `model` iteration. You'll be able to attach information such as metrics and tag to a given `model_version` as well as deploy it as a model service.\n",
    "\n",
    "`merlin.set_model(<model_name>, <model_type>)` will set the active model to the name given by parameter, if the model with given name is not found, a new model will be created."
   ]
  },
  {
   "cell_type": "code",
   "execution_count": null,
   "id": "d2325686",
   "metadata": {},
   "outputs": [],
   "source": [
    "merlin.set_model(\"custom-model\", ModelType.CUSTOM)"
   ]
  },
  {
   "cell_type": "markdown",
   "id": "3c50c1d0",
   "metadata": {},
   "source": [
    "## 2. Train Model And Deploy"
   ]
  },
  {
   "cell_type": "markdown",
   "id": "8a36d25c",
   "metadata": {},
   "source": [
    "### 2.1 Train Model"
   ]
  },
  {
   "cell_type": "code",
   "execution_count": null,
   "id": "a710173f",
   "metadata": {},
   "outputs": [],
   "source": [
    "model_dir = \"xgboost-model\"\n",
    "BST_FILE = \"model.bst\"\n",
    "\n",
    "iris = load_iris()\n",
    "y = iris['target']\n",
    "X = iris['data']\n",
    "dtrain = xgb.DMatrix(X, label=y)\n",
    "param = {'max_depth': 6,\n",
    "            'eta': 0.1,\n",
    "            'silent': 1,\n",
    "            'nthread': 4,\n",
    "            'num_class': 10,\n",
    "            'objective': 'multi:softmax'\n",
    "            }\n",
    "xgb_model = xgb.train(params=param, dtrain=dtrain)\n",
    "model_file = os.path.join((model_dir), BST_FILE)\n",
    "xgb_model.save_model(model_file)\n"
   ]
  },
  {
   "cell_type": "markdown",
   "id": "9bb2ae92",
   "metadata": {},
   "source": [
    "### 2.2 Create Model Version and Upload Model"
   ]
  },
  {
   "cell_type": "markdown",
   "id": "5f27678f",
   "metadata": {},
   "source": [
    "`merlin.new_model_version()` is a convenient method to create a model version and start its development process. It is equal to following codes:\n",
    "\n",
    "```\n",
    "v = model.new_model_version()\n",
    "v.start()\n",
    "v.log_custom_model(image=\"ghcr.io/gojek/custom-model:v0.3\",model_dir=model_dir)\n",
    "v.finish()\n",
    "```\n",
    "\n",
    "\n",
    "This image `ghcr.io/tiopramayudi/custom-predictor-go:v0.2` is built by using this [Dockerfile](./Dockerfile). The image contains go web service executable where the code you can find [here](./model-server)"
   ]
  },
  {
   "cell_type": "code",
   "execution_count": null,
   "id": "63d9b1fb",
   "metadata": {},
   "outputs": [],
   "source": [
    "# Create new version of the model\n",
    "with merlin.new_model_version() as v:\n",
    "    # Upload the serialized model to Merlin\n",
    "    merlin.log_custom_model(image=\"ghcr.io/tiopramayudi/custom-predictor-go:v0.2\", model_dir=model_dir)\n",
    "    "
   ]
  },
  {
   "cell_type": "markdown",
   "id": "5045593a",
   "metadata": {},
   "source": [
    "### 2.2 Deploy Model\n"
   ]
  },
  {
   "cell_type": "code",
   "execution_count": null,
   "id": "0107a735",
   "metadata": {},
   "outputs": [],
   "source": [
    "from merlin.protocol import Protocol\n",
    "\n",
    "endpoint = merlin.deploy(v, protocol = Protocol.HTTP_JSON)"
   ]
  },
  {
   "cell_type": "markdown",
   "id": "779c5a0c",
   "metadata": {},
   "source": [
    "### 2.3 Send Test Request"
   ]
  },
  {
   "cell_type": "code",
   "execution_count": null,
   "id": "f167e8ba",
   "metadata": {},
   "outputs": [],
   "source": [
    "%%bash -s \"$endpoint.url\"\n",
    "curl -v -X POST $1 -d '{\n",
    "  \"instances\": [\n",
    "    [2.8,  1.0,  6.8,  0.4],\n",
    "    [3.1,  1.4,  4.5,  1.6]\n",
    "  ]\n",
    "}'"
   ]
  },
  {
   "cell_type": "markdown",
   "id": "c14ce243",
   "metadata": {},
   "source": [
    "### 2.4 Delete Deployment"
   ]
  },
  {
   "cell_type": "code",
   "execution_count": null,
   "id": "076dd1d4",
   "metadata": {},
   "outputs": [],
   "source": [
    "merlin.undeploy(v)\n"
   ]
  }
 ],
 "metadata": {
  "kernelspec": {
   "display_name": "kitchen-sink",
   "language": "python",
   "name": "kitchen-sink"
  },
  "language_info": {
   "codemirror_mode": {
    "name": "ipython",
    "version": 3
   },
   "file_extension": ".py",
   "mimetype": "text/x-python",
   "name": "python",
   "nbconvert_exporter": "python",
   "pygments_lexer": "ipython3",
   "version": "3.7.13"
  }
 },
 "nbformat": 4,
 "nbformat_minor": 5
}
