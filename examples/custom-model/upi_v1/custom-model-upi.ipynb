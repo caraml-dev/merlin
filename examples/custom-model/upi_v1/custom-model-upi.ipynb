{
 "cells": [
  {
   "cell_type": "markdown",
   "id": "88acfbf4",
   "metadata": {},
   "source": [
    "# Custom Model UPI Sample"
   ]
  },
  {
   "cell_type": "markdown",
   "id": "1c7f43f1",
   "metadata": {},
   "source": [
    "## Requirements\n",
    "\n",
    "- Authenticated to gcloud (```gcloud auth application-default login```)"
   ]
  },
  {
   "cell_type": "markdown",
   "id": "f6218f2a",
   "metadata": {},
   "source": [
    "This notebook demonstrate how to create and deploy custom model which using IRIS classifier based on xgboost model into Merlin."
   ]
  },
  {
   "cell_type": "code",
   "execution_count": null,
   "id": "daafc16a",
   "metadata": {},
   "outputs": [],
   "source": [
    "!python3 -m pip install --upgrade -r requirements.txt > /dev/null"
   ]
  },
  {
   "cell_type": "code",
   "execution_count": null,
   "id": "dcd7ae51",
   "metadata": {},
   "outputs": [],
   "source": [
    "import merlin\n",
    "import warnings\n",
    "import os\n",
    "import xgboost as xgb\n",
    "from merlin.model import ModelType\n",
    "from sklearn.datasets import load_iris\n",
    "warnings.filterwarnings('ignore')\n"
   ]
  },
  {
   "cell_type": "markdown",
   "id": "38fd8feb",
   "metadata": {},
   "source": [
    "## 1. Initialize Merlin Resources\n"
   ]
  },
  {
   "cell_type": "markdown",
   "id": "46d2cc6b",
   "metadata": {},
   "source": [
    "### 1.1 Set Merlin Server"
   ]
  },
  {
   "cell_type": "code",
   "execution_count": null,
   "id": "e4e165b2",
   "metadata": {},
   "outputs": [],
   "source": [
    "# Set Merlin Server\n",
    "merlin.set_url(\"http://localhost:8080\")"
   ]
  },
  {
   "cell_type": "markdown",
   "id": "c826d621",
   "metadata": {},
   "source": [
    "### 1.2 Set Active Project\n",
    "\n",
    "`project` represent a project in real life. You may have multiple model within a project.\n",
    "\n",
    "`merlin.set_project(<project_name>)` will set the active project into the name matched by argument. You can only set it to an existing project. If you would like to create a new project, please do so from the MLP console at http://localhost:8080/projects/create."
   ]
  },
  {
   "cell_type": "code",
   "execution_count": null,
   "id": "813438d9",
   "metadata": {},
   "outputs": [],
   "source": [
    "merlin.set_project(\"sample\")"
   ]
  },
  {
   "cell_type": "markdown",
   "id": "546a926d",
   "metadata": {},
   "source": [
    "### 1.3 Set Active Model\n",
    "\n",
    "`model` represents an abstract ML model. Conceptually, `model` in Merlin is similar to a class in programming language. To instantiate a `model` you'll have to create a `model_version`.\n",
    "\n",
    "Each `model` has a type, currently model type supported by Merlin are: sklearn, xgboost, tensorflow, pytorch, and user defined model (i.e. pyfunc model).\n",
    "\n",
    "`model_version` represents a snapshot of particular `model` iteration. You'll be able to attach information such as metrics and tag to a given `model_version` as well as deploy it as a model service.\n",
    "\n",
    "`merlin.set_model(<model_name>, <model_type>)` will set the active model to the name given by parameter, if the model with given name is not found, a new model will be created."
   ]
  },
  {
   "cell_type": "code",
   "execution_count": null,
   "id": "d2325686",
   "metadata": {},
   "outputs": [],
   "source": [
    "merlin.set_model(\"custom-model-upi\", ModelType.CUSTOM)"
   ]
  },
  {
   "cell_type": "markdown",
   "id": "3c50c1d0",
   "metadata": {},
   "source": [
    "## 2. Deploy Model"
   ]
  },
  {
   "cell_type": "markdown",
   "id": "9bb2ae92",
   "metadata": {},
   "source": [
    "### 2.2 Create Model Version and Upload Model"
   ]
  },
  {
   "cell_type": "markdown",
   "id": "5f27678f",
   "metadata": {},
   "source": [
    "`merlin.new_model_version()` is a convenient method to create a model version and start its development process. It is equal to following codes:\n",
    "\n",
    "```\n",
    "v = model.new_model_version()\n",
    "v.start()\n",
    "v.log_custom_model(image=\"ghcr.io/gojek/custom-model:v0.3\",model_dir=model_dir)\n",
    "v.finish()\n",
    "```\n",
    "\n",
    "\n",
    "This image `ghcr.io/tiopramayudi/custom-predictor-go:v0.2` is built by using this [Dockerfile](./Dockerfile). The image contains go web service executable where the code you can find [here](./)"
   ]
  },
  {
   "cell_type": "code",
   "execution_count": null,
   "id": "63d9b1fb",
   "metadata": {},
   "outputs": [],
   "source": [
    "# Create new version of the model\n",
    "with merlin.new_model_version() as v:\n",
    "    # Upload the serialized model to Merlin\n",
    "    merlin.log_custom_model(image=\"ghcr.io/tiopramayudi/custom-model-upi:v0.1\")\n",
    "    "
   ]
  },
  {
   "cell_type": "markdown",
   "id": "5045593a",
   "metadata": {},
   "source": [
    "### 2.2 Deploy Model\n"
   ]
  },
  {
   "cell_type": "code",
   "execution_count": null,
   "id": "0107a735",
   "metadata": {},
   "outputs": [],
   "source": [
    "from merlin.protocol import Protocol\n",
    "\n",
    "endpoint = merlin.deploy(v, protocol = Protocol.UPI_V1)"
   ]
  },
  {
   "cell_type": "markdown",
   "id": "779c5a0c",
   "metadata": {},
   "source": [
    "### 2.3 Send Test Request"
   ]
  },
  {
   "cell_type": "code",
   "execution_count": null,
   "id": "f167e8ba",
   "metadata": {},
   "outputs": [],
   "source": [
    "from caraml.upi.v1 import upi_pb2, upi_pb2_grpc\n",
    "from caraml.upi.v1 import type_pb2, variable_pb2\n",
    "import grpc\n",
    "import pandas as pd\n",
    "from caraml.upi.utils import df_to_table, table_to_df\n",
    "\n",
    "def create_simple_forwarder_request() -> upi_pb2.PredictValuesRequest:\n",
    "    target_name = \"probability\"\n",
    "    cols = [\"id\", \"name\", \"vehicle\", \"previous_vehicle\", \"rating\", \"test_time\", \"row_number\"]\n",
    "    indices = [\"row1\", \"row2\"]\n",
    "    rows = [\n",
    "        [1, \"driver-1\", \"motorcycle\", \"suv\", 4.0, 90, 0],\n",
    "        [2, \"driver-2\", \"sedan\", \"mpv\", 3.0, 90, 1]\n",
    "    ]\n",
    "    driver_df = pd.DataFrame(columns=cols, data=rows, index=indices)\n",
    "    driver_table = df_to_table(driver_df, \"driver_table\")\n",
    "    return upi_pb2.PredictValuesRequest(\n",
    "        target_name=target_name,\n",
    "        prediction_table=driver_table,\n",
    "    )\n",
    "\n",
    "def simple_forwarder_response(request:upi_pb2.PredictValuesRequest) -> upi_pb2.PredictValuesResponse:\n",
    "    return upi_pb2.PredictValuesResponse(\n",
    "        target_name=request.target_name,\n",
    "        prediction_result_table=request.prediction_table\n",
    "    )\n",
    "\n",
    "channel = grpc.insecure_channel(f\"{endpoint.url}:80\")\n",
    "stub = upi_pb2_grpc.UniversalPredictionServiceStub(channel)\n",
    "\n",
    "\n",
    "request = create_simple_forwarder_request()\n",
    "response = stub.PredictValues(request=request)\n",
    "\n",
    "assert response.metadata.prediction_id == request.metadata.prediction_id\n",
    "assert response.target_name == request.target_name\n",
    "exp_response = simple_forwarder_response(request)\n",
    "print(request)\n",
    "assert response == exp_response\n"
   ]
  },
  {
   "cell_type": "markdown",
   "id": "c14ce243",
   "metadata": {},
   "source": [
    "### 2.4 Delete Deployment"
   ]
  },
  {
   "cell_type": "code",
   "execution_count": null,
   "id": "076dd1d4",
   "metadata": {},
   "outputs": [],
   "source": [
    "merlin.undeploy(v)\n"
   ]
  },
  {
   "cell_type": "code",
   "execution_count": null,
   "id": "c0401468",
   "metadata": {},
   "outputs": [],
   "source": []
  }
 ],
 "metadata": {
  "kernelspec": {
   "display_name": "kitchen-sink",
   "language": "python",
   "name": "kitchen-sink"
  },
  "language_info": {
   "codemirror_mode": {
    "name": "ipython",
    "version": 3
   },
   "file_extension": ".py",
   "mimetype": "text/x-python",
   "name": "python",
   "nbconvert_exporter": "python",
   "pygments_lexer": "ipython3",
   "version": "3.7.13"
  }
 },
 "nbformat": 4,
 "nbformat_minor": 5
}
