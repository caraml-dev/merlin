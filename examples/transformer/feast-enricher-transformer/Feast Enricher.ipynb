{
 "cells": [
  {
   "cell_type": "markdown",
   "metadata": {},
   "source": [
    "# Feast Enricher Transformer Example\n",
    "\n",
    "This notebook demonstrates how to deploy a PyFunc model and a feast enricher transformer. The pyfunc model simply return the request from the transformer. While the transformer itself only retrieve the feature from Feast server to be used to enricher the incoming request input."
   ]
  },
  {
   "cell_type": "markdown",
   "metadata": {},
   "source": [
    "## Requirements\n",
    "\n",
    "- Authenticated to gcloud (```gcloud auth application-default login```)"
   ]
  },
  {
   "cell_type": "code",
   "execution_count": 1,
   "metadata": {},
   "outputs": [
    {
     "name": "stdout",
     "output_type": "stream",
     "text": [
      "\u001b[33mYou are using pip version 19.0.3, however version 21.1.2 is available.\n",
      "You should consider upgrading via the 'pip install --upgrade pip' command.\u001b[0m\n"
     ]
    }
   ],
   "source": [
    "!pip install --upgrade -r requirements.txt > /dev/null"
   ]
  },
  {
   "cell_type": "code",
   "execution_count": 2,
   "metadata": {},
   "outputs": [],
   "source": [
    "import warnings\n",
    "warnings.filterwarnings('ignore')"
   ]
  },
  {
   "cell_type": "markdown",
   "metadata": {},
   "source": [
    "## 1. Initialize Merlin"
   ]
  },
  {
   "cell_type": "markdown",
   "metadata": {},
   "source": [
    "### 1.1 Set Merlin Server"
   ]
  },
  {
   "cell_type": "code",
   "execution_count": 3,
   "metadata": {},
   "outputs": [
    {
     "name": "stdout",
     "output_type": "stream",
     "text": [
      "0.12.2\n"
     ]
    }
   ],
   "source": [
    "import merlin\n",
    "print(merlin.__version__)\n",
    "\n",
    "MERLIN_URL = \"<MERLIN_HOST>/api/merlin\"\n",
    "\n",
    "merlin.set_url(MERLIN_URL)"
   ]
  },
  {
   "cell_type": "markdown",
   "metadata": {},
   "source": [
    "### 1.2 Set Active Project\n",
    "\n",
    "`project` represent a project in real life. You may have multiple model within a project.\n",
    "\n",
    "`merlin.set_project(<project-name>)` will set the active project into the name matched by argument. You can only set it to an existing project. If you would like to create a new project, please do so from the MLP UI."
   ]
  },
  {
   "cell_type": "code",
   "execution_count": 4,
   "metadata": {},
   "outputs": [
    {
     "name": "stderr",
     "output_type": "stream",
     "text": [
      "/Users/ariefrahmansyah/.pyenv/versions/3.7.3/lib/python3.7/site-packages/ipykernel/ipkernel.py:287: DeprecationWarning: `should_run_async` will not call `transform_cell` automatically in the future. Please pass the result to `transformed_cell` argument and any exception that happen during thetransform in `preprocessing_exc_tuple` in IPython 7.17 and above.\n",
      "  and should_run_async(code)\n"
     ]
    }
   ],
   "source": [
    "PROJECT_NAME = \"sample\"\n",
    "\n",
    "merlin.set_project(PROJECT_NAME)"
   ]
  },
  {
   "cell_type": "markdown",
   "metadata": {},
   "source": [
    "### 1.3 Set Active Model\n",
    "\n",
    "`model` represents an abstract ML model. Conceptually, `model` in Merlin is similar to a class in programming language. To instantiate a `model` you'll have to create a `model_version`.\n",
    "\n",
    "Each `model` has a type, currently model type supported by Merlin are: sklearn, xgboost, tensorflow, pytorch, and user defined model (i.e. pyfunc model).\n",
    "\n",
    "`model_version` represents a snapshot of particular `model` iteration. You'll be able to attach information such as metrics and tag to a given `model_version` as well as deploy it as a model service.\n",
    "\n",
    "`merlin.set_model(<model_name>, <model_type>)` will set the active model to the name given by parameter, if the model with given name is not found, a new model will be created."
   ]
  },
  {
   "cell_type": "code",
   "execution_count": 5,
   "metadata": {},
   "outputs": [],
   "source": [
    "from merlin.model import ModelType\n",
    "\n",
    "MODEL_NAME = \"feast-enricher\"\n",
    "\n",
    "merlin.set_model(MODEL_NAME, ModelType.PYFUNC)"
   ]
  },
  {
   "cell_type": "markdown",
   "metadata": {},
   "source": [
    "## 2. Create PyFunc Model\n",
    "\n",
    "To create a PyFunc model you'll have to extend `merlin.PyFuncModel` class and implement its `initialize` and `infer` method.\n",
    "\n",
    "`initialize` will be called once during model initialization. The argument to `initialize` is a dictionary containing a key value pair of artifact name and its URL. The artifact's keys are the same value as received by `log_pyfunc_model`.\n",
    "\n",
    "`infer` method is the prediction method that needs to be implemented. It accept a dictionary type argument which represent incoming request body. `infer` should return a dictionary object which correspond to response body of prediction result."
   ]
  },
  {
   "cell_type": "markdown",
   "metadata": {},
   "source": [
    "In following example we are creating PyFunc model called `StandardModel`. \n",
    "This model will simply echo-ing back the request body to its sender and print `feast_features` that will be populated by standard transformer into stdout."
   ]
  },
  {
   "cell_type": "code",
   "execution_count": 6,
   "metadata": {},
   "outputs": [],
   "source": [
    "import pandas as pd\n",
    "import logging\n",
    "from merlin.model import PyFuncModel\n",
    "\n",
    "class StandardModel(PyFuncModel):\n",
    "    def initialize(self, artifacts):\n",
    "        pass\n",
    "        \n",
    "    def infer(self, request, **kwargs):\n",
    "        if \"feast_features\" in request:\n",
    "            logging.info(pd.DataFrame(**request[\"feast_features\"][\"merchant_id\"]))\n",
    "        return request"
   ]
  },
  {
   "cell_type": "markdown",
   "metadata": {},
   "source": [
    "Now, let's test it locally."
   ]
  },
  {
   "cell_type": "code",
   "execution_count": 7,
   "metadata": {},
   "outputs": [
    {
     "data": {
      "text/plain": [
       "{'lat': -6.2335, 'lon': 106.8022, 'details': '{\"merchant_id\": 542958066}'}"
      ]
     },
     "execution_count": 7,
     "metadata": {},
     "output_type": "execute_result"
    }
   ],
   "source": [
    "m = StandardModel()\n",
    "m.initialize({})\n",
    "m.infer(\n",
    "   {\n",
    "        \"lat\": -6.2335,\n",
    "        \"lon\": 106.8022,     \n",
    "        \"details\":\"{\\\"merchant_id\\\": 542958066}\"\n",
    "   }\n",
    ")"
   ]
  },
  {
   "cell_type": "markdown",
   "metadata": {},
   "source": [
    "Test whether it could accept feature enrichment from standard transformer. Note that `feast_features` json field will be populated by standard transformer, and the format follow pandas.DataFrame with `split` orientation."
   ]
  },
  {
   "cell_type": "code",
   "execution_count": 8,
   "metadata": {},
   "outputs": [
    {
     "data": {
      "text/plain": [
       "{'lat': -6.2335,\n",
       " 'lon': 106.8022,\n",
       " 'details': '{\"merchant_id\": 542958066}',\n",
       " 'feast_features': {'location_geohash': {'columns': ['location_geohash',\n",
       "    'poi_geohash:total',\n",
       "    'poi_geohash:ppoi'],\n",
       "   'data': [['qqguw34zpxkkh', 3, 15]]},\n",
       "  'merchant_id': {'columns': ['merchant_id',\n",
       "    'merchant_ratings:average_rating',\n",
       "    'merchant_ratings:total_ratings'],\n",
       "   'data': [['542958066', 4, 4]]}}}"
      ]
     },
     "execution_count": 8,
     "metadata": {},
     "output_type": "execute_result"
    }
   ],
   "source": [
    "m.infer(\n",
    "    {\n",
    "  \"lat\": -6.2335,\n",
    "  \"lon\": 106.8022,      \n",
    "  \"details\":\"{\\\"merchant_id\\\": 542958066}\",\n",
    "  \"feast_features\": {\n",
    "      \"location_geohash\" : {\n",
    "        \"columns\": [\n",
    "            \"location_geohash\",\n",
    "            \"poi_geohash:total\",\n",
    "            \"poi_geohash:ppoi\"\n",
    "        ],\n",
    "        \"data\": [[\"qqguw34zpxkkh\", 3, 15]]\n",
    "    },\n",
    "    \"merchant_id\" : {\n",
    "        \"columns\": [\n",
    "            \"merchant_id\",\n",
    "            \"merchant_ratings:average_rating\",\n",
    "            \"merchant_ratings:total_ratings\"\n",
    "        ],\n",
    "        \"data\": [[\"542958066\", 4, 4]]\n",
    "      },\n",
    "    }\n",
    "}\n",
    "\n",
    ")"
   ]
  },
  {
   "cell_type": "markdown",
   "metadata": {},
   "source": [
    "## 3. Deploy Model"
   ]
  },
  {
   "cell_type": "markdown",
   "metadata": {},
   "source": [
    "To deploy the model, we will have to create an iteration of the model (by create a `model_version`), upload the serialized model to MLP, and then deploy."
   ]
  },
  {
   "cell_type": "markdown",
   "metadata": {},
   "source": [
    "### 3.1 Create Model Version and Upload"
   ]
  },
  {
   "cell_type": "markdown",
   "metadata": {},
   "source": [
    "`merlin.new_model_version()` is a convenient method to create a model version and start its development process. It is equal to following codes:\n",
    "\n",
    "```\n",
    "v = model.new_model_version()\n",
    "v.start()\n",
    "v.log_pyfunc_model(model_instance=EnsembleModel(), \n",
    "                conda_env=\"env.yaml\", \n",
    "                artifacts={\"xgb_model\": model_1_path, \"sklearn_model\": model_2_path})\n",
    "v.finish()\n",
    "```"
   ]
  },
  {
   "cell_type": "markdown",
   "metadata": {},
   "source": [
    "To upload PyFunc model you have to provide following arguments:\n",
    "1. `model_instance` is the instance of PyFunc model, the model has to extend `merlin.PyFuncModel`\n",
    "2. `conda_env` is path to conda environment yaml file. The environment yaml file must contain all dependency required by the PyFunc model.\n",
    "3. (Optional) `artifacts` is additional artifact that you want to include in the model\n",
    "4. (Optional) `code_path` is a list of directory containing python code that will be loaded during model initialization, this is required when `model_instance` depend on local python package"
   ]
  },
  {
   "cell_type": "code",
   "execution_count": 9,
   "metadata": {},
   "outputs": [
    {
     "name": "stderr",
     "output_type": "stream",
     "text": [
      "2021/06/23 05:40:37 WARNING mlflow.models.model: Logging model metadata to the tracking server has failed, possibly due older server version. The model artifacts have been logged successfully under gs://<MERLIN_BUCKET>/mlflow/903/fb38f1135a5f43febc61c32af384b20b/artifacts. In addition to exporting model artifacts, MLflow clients 1.7.0 and above attempt to record model metadata to the  tracking store. If logging to a mlflow server via REST, consider  upgrading the server version to MLflow 1.7.0 or above.\n"
     ]
    }
   ],
   "source": [
    "with merlin.new_model_version(labels={\"service_type\": \"GO-RIDE\", \"date\": \"2021-06-23\"}) as v:    \n",
    "    merlin.log_pyfunc_model(model_instance=StandardModel(),\n",
    "                            conda_env=\"env.yaml\",\n",
    "                            artifacts={})"
   ]
  },
  {
   "cell_type": "markdown",
   "metadata": {},
   "source": [
    "### 3.2 Deploy Model and Transformer\n",
    "\n",
    "To deploy a model and its transformer, you must pass a `transformer` object to `deploy()` function. Each of deployed model version will have its own generated url."
   ]
  },
  {
   "cell_type": "code",
   "execution_count": 10,
   "metadata": {},
   "outputs": [
    {
     "name": "stdout",
     "output_type": "stream",
     "text": [
      "transformerConfig:\n",
      " feast:\n",
      "  - project: default\n",
      "    entities:\n",
      "    - name: location_geohash\n",
      "      valueType: STRING\n",
      "      udf: Geohash(\"$.lat\", \"$.lon\", 7)\n",
      "    features:\n",
      "    - name: poi_geohash:total\n",
      "      valueType: DOUBLE\n",
      "      defaultValue: \"0\"\n",
      "    - name: poi_geohash:ppoi\n",
      "      valueType: DOUBLE\n",
      "      defaultValue: \"0\"\n",
      "  - project: default \n",
      "    entities:\n",
      "      - name: merchant_id\n",
      "        valueType: STRING\n",
      "        udf: JsonExtract(\"$.details\", \"$.merchant_id\")\n",
      "    features:\n",
      "    - name: merchant_ratings:average_rating\n",
      "      valueType: DOUBLE\n",
      "      defaultValue: \"0\"\n",
      "    - name: merchant_ratings:total_ratings\n",
      "      valueType: INT64\n",
      "      defaultValue: \"0\"\n",
      "\n"
     ]
    },
    {
     "name": "stderr",
     "output_type": "stream",
     "text": [
      "/Users/ariefrahmansyah/.pyenv/versions/3.7.3/lib/python3.7/site-packages/ipykernel/ipkernel.py:287: DeprecationWarning: `should_run_async` will not call `transform_cell` automatically in the future. Please pass the result to `transformed_cell` argument and any exception that happen during thetransform in `preprocessing_exc_tuple` in IPython 7.17 and above.\n",
      "  and should_run_async(code)\n"
     ]
    }
   ],
   "source": [
    "!cat \"feast_enricher_config.yaml\""
   ]
  },
  {
   "cell_type": "code",
   "execution_count": 11,
   "metadata": {},
   "outputs": [
    {
     "name": "stderr",
     "output_type": "stream",
     "text": [
      "Deploying model feast-enricher version 1\n",
      "0% [##############################] 100% | ETA: 00:00:00"
     ]
    },
    {
     "name": "stdout",
     "output_type": "stream",
     "text": [
      "Model feast-enricher version 1 is deployed.\n",
      "View model version logs: http://<MERLIN_HOST>/merlin/projects/1/models/900/versions/1/endpoints/1d169198-e8b4-473c-8eae-fca98775cdf2/logs\n"
     ]
    },
    {
     "name": "stderr",
     "output_type": "stream",
     "text": [
      "\n",
      "Total time elapsed: 00:03:34\n"
     ]
    }
   ],
   "source": [
    "from merlin.resource_request import ResourceRequest\n",
    "from merlin.transformer import StandardTransformer\n",
    "from merlin.logger import Logger, LoggerConfig, LoggerMode\n",
    "\n",
    "# Create a transformer object and its resources requests\n",
    "transformer_config_path = \"feast_enricher_config.yaml\"\n",
    "transformer = StandardTransformer(config_file=transformer_config_path,\n",
    "                                  enabled=True)\n",
    "\n",
    "log = Logger(model=LoggerConfig(enabled=True,  mode=LoggerMode.ALL))\n",
    "endpoint = merlin.deploy(v, transformer=transformer, logger=log)"
   ]
  },
  {
   "cell_type": "markdown",
   "metadata": {},
   "source": [
    "### 3.3 Send Test Request"
   ]
  },
  {
   "cell_type": "code",
   "execution_count": 12,
   "metadata": {},
   "outputs": [
    {
     "name": "stdout",
     "output_type": "stream",
     "text": [
      "{\n",
      "  \"lat\": -6.2335,\n",
      "  \"lon\": 106.8022,\n",
      "  \"details\": \"{\\\"merchant_id\\\": 54295}\",\n",
      "  \"feast_features\": {\n",
      "    \"location_geohash\": {\n",
      "      \"columns\": [\n",
      "        \"location_geohash\",\n",
      "        \"poi_geohash:total\",\n",
      "        \"poi_geohash:ppoi\"\n",
      "      ],\n",
      "      \"data\": [\n",
      "        [\n",
      "          \"qqguw34\",\n",
      "          0,\n",
      "          0\n",
      "        ]\n",
      "      ]\n",
      "    },\n",
      "    \"merchant_id\": {\n",
      "      \"columns\": [\n",
      "        \"merchant_id\",\n",
      "        \"merchant_ratings:average_rating\",\n",
      "        \"merchant_ratings:total_ratings\"\n",
      "      ],\n",
      "      \"data\": [\n",
      "        [\n",
      "          \"54295\",\n",
      "          0,\n",
      "          0\n",
      "        ]\n",
      "      ]\n",
      "    }\n",
      "  }\n",
      "}\n"
     ]
    }
   ],
   "source": [
    "import json\n",
    "import requests\n",
    "\n",
    "resp = requests.post(endpoint.url, json={\n",
    "  \"lat\": -6.2335,\n",
    "  \"lon\": 106.8022,      \n",
    "  \"details\":\"{\\\"merchant_id\\\": 54295}\"\n",
    "})\n",
    "pretty_json = json.loads(resp.text)\n",
    "print (json.dumps(pretty_json, indent=2))"
   ]
  },
  {
   "cell_type": "markdown",
   "metadata": {},
   "source": [
    "## 3. Clean Up"
   ]
  },
  {
   "cell_type": "markdown",
   "metadata": {},
   "source": [
    "## 3.1 Delete Deployment"
   ]
  },
  {
   "cell_type": "code",
   "execution_count": 13,
   "metadata": {},
   "outputs": [
    {
     "name": "stdout",
     "output_type": "stream",
     "text": [
      "Deleting deployment of model feast-enricher version 1 from enviroment id-staging\n"
     ]
    }
   ],
   "source": [
    "merlin.undeploy(v)"
   ]
  }
 ],
 "metadata": {
  "kernelspec": {
   "display_name": "Python 3",
   "language": "python",
   "name": "python3"
  },
  "language_info": {
   "codemirror_mode": {
    "name": "ipython",
    "version": 3
   },
   "file_extension": ".py",
   "mimetype": "text/x-python",
   "name": "python",
   "nbconvert_exporter": "python",
   "pygments_lexer": "ipython3",
   "version": "3.7.3"
  }
 },
 "nbformat": 4,
 "nbformat_minor": 4
}
